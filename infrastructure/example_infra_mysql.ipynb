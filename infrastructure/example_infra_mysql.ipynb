{
  "nbformat": 4,
  "nbformat_minor": 0,
  "metadata": {
    "colab": {
      "name": "Example_Infra_ AWS_MySql .ipynb",
      "provenance": [],
      "collapsed_sections": [],
      "include_colab_link": true
    },
    "kernelspec": {
      "name": "python3",
      "display_name": "Python 3"
    }
  },
  "cells": [
    {
      "cell_type": "markdown",
      "metadata": {
        "id": "view-in-github",
        "colab_type": "text"
      },
      "source": [
        "<a href=\"https://colab.research.google.com/github/vu-bigdata-2020/example-notebooks/blob/master/infrastructure/example_infra_mysql.ipynb\" target=\"_parent\"><img src=\"https://colab.research.google.com/assets/colab-badge.svg\" alt=\"Open In Colab\"/></a>"
      ]
    },
    {
      "cell_type": "markdown",
      "metadata": {
        "id": "5whYIScWPK7Y",
        "colab_type": "text"
      },
      "source": [
        "# MySql infrastructure connection example\n",
        "\n",
        "This example will show you how to install MySql on AWS, load data into the MySql and then connect to it from a jupyter notebook running on google colab. \n",
        "\n",
        "After this instruction is complete you should be able to load bigger datasets as well.\n",
        "\n",
        "Prerequisite:\n",
        "\n",
        "1.   We expect that you have received EC2 invitation from the Topics in Big data class and you have accepted the invitation. Refer to the next section to learn how to create an RDS instance"
      ]
    },
    {
      "cell_type": "markdown",
      "metadata": {
        "id": "q077XkZHe5df",
        "colab_type": "text"
      },
      "source": [
        "#MySql RDS instance creation\n",
        "\n",
        "Please refer to the step by step instruction given in the amazon link below -\n",
        "\n",
        "    https://aws.amazon.com/getting-started/tutorials/create-mysql-db/\n",
        "\n",
        "\n",
        "PS: Please install the MS Visual studion C++ 2015 redistributable required for MySql Workbench in the below link:\n",
        "\n",
        "    https://www.microsoft.com/en-us/download/details.aspx?id=48145\n",
        "\n"
      ]
    },
    {
      "cell_type": "markdown",
      "metadata": {
        "id": "cRA1fNkpgijo",
        "colab_type": "text"
      },
      "source": [
        "#Loading the data into MySql\n",
        "\n",
        "1.Load the lahman data into mysql  from\n",
        "    http://www.seanlahman.com/files/database/\n",
        "\n",
        "PS:Use the lahman_sql_2015 data \n",
        "\n",
        "2.Using MySql workbench load the lahman_2014beta.sql script to load the data into MySql- \n",
        "\n",
        "![alt text](https://drive.google.com/uc?id=1o7ugFddzChS-ariA2xEFpz6FmUF9TS1L)"
      ]
    },
    {
      "cell_type": "markdown",
      "metadata": {
        "id": "5H-b5Etam3yt",
        "colab_type": "text"
      },
      "source": [
        "#Running the python code to connect to AWS MySql:\n",
        "\n",
        "Run the Example_Infra+AWS_MySql.ipynb \n"
      ]
    },
    {
      "cell_type": "code",
      "metadata": {
        "id": "oG1uvqP0pMdX",
        "colab_type": "code",
        "outputId": "e8a9fd1e-73b0-4627-8070-c05cf3e5b432",
        "colab": {
          "base_uri": "https://localhost:8080/",
          "height": 122
        }
      },
      "source": [
        "!pip install pymysql\n"
      ],
      "execution_count": 0,
      "outputs": [
        {
          "output_type": "stream",
          "text": [
            "Collecting pymysql\n",
            "\u001b[?25l  Downloading https://files.pythonhosted.org/packages/ed/39/15045ae46f2a123019aa968dfcba0396c161c20f855f11dea6796bcaae95/PyMySQL-0.9.3-py2.py3-none-any.whl (47kB)\n",
            "\r\u001b[K     |██████▉                         | 10kB 18.5MB/s eta 0:00:01\r\u001b[K     |█████████████▊                  | 20kB 839kB/s eta 0:00:01\r\u001b[K     |████████████████████▋           | 30kB 1.2MB/s eta 0:00:01\r\u001b[K     |███████████████████████████▌    | 40kB 830kB/s eta 0:00:01\r\u001b[K     |████████████████████████████████| 51kB 930kB/s \n",
            "\u001b[?25hInstalling collected packages: pymysql\n",
            "Successfully installed pymysql-0.9.3\n"
          ],
          "name": "stdout"
        }
      ]
    },
    {
      "cell_type": "markdown",
      "metadata": {
        "id": "VS730iRinYVs",
        "colab_type": "text"
      },
      "source": [
        "# DB class\n",
        "\n",
        "DB class which connects to the AWS MySql server"
      ]
    },
    {
      "cell_type": "code",
      "metadata": {
        "id": "7GToG6vA9d41",
        "colab_type": "code",
        "outputId": "92c13c99-8854-4250-dff8-e752b680e6e7",
        "colab": {
          "base_uri": "https://localhost:8080/",
          "height": 88
        }
      },
      "source": [
        "\n",
        "\n",
        "import pymysql\n",
        "\n",
        "\n",
        "class DB:\n",
        "    def __init__(self):\n",
        "        try:\n",
        "          self.conn = pymysql.connect(\n",
        "              user='admin',\n",
        "              password='mysqlmysql',\n",
        "              host='database-3.cru0oxwnnqay.us-east-1.rds.amazonaws.com'\n",
        "              #database='mydb'\n",
        "          )\n",
        "\n",
        "        except Exception as e:\n",
        "            print(\"I am unable to connect to the database - bye \" + str(e))\n",
        "            exit()\n",
        "        print('Got a DB connection!- hurray')\n",
        "        self.cur = self.conn.cursor()\n",
        "\n",
        "    def cursor(self):\n",
        "        return self.cur\n",
        "\n",
        "    def getNewCursor(self):\n",
        "        return self.conn.cursor()\n",
        "\n",
        "    def connection(self):\n",
        "        return self.conn\n",
        "\n",
        "    def query(self, q):\n",
        "        self.cur.execute(q)\n",
        "        try:\n",
        "          output=self.cur.fetchone()\n",
        "          return self.cur.fetchall()\n",
        "        except Exception as e:\n",
        "          print('no result to return')\n",
        "          return\n",
        "          \n",
        "\n",
        "\n"
      ],
      "execution_count": 0,
      "outputs": [
        {
          "output_type": "stream",
          "text": [
            "Got a DB connection!- hurray\n",
            "Success! I ran a query and got 23 results\n",
            "(('Appearances',), ('AwardsManagers',), ('AwardsPlayers',), ('AwardsShareManagers',), ('AwardsSharePlayers',), ('Batting',), ('BattingPost',), ('CollegePlaying',), ('Fielding',), ('FieldingOF',), ('FieldingPost',), ('HallOfFame',), ('Managers',), ('ManagersHalf',), ('Master',), ('Pitching',), ('PitchingPost',), ('Salaries',), ('Schools',), ('SeriesPost',), ('Teams',), ('TeamsFranchises',), ('TeamsHalf',))\n"
          ],
          "name": "stdout"
        }
      ]
    },
    {
      "cell_type": "markdown",
      "metadata": {
        "id": "07477DKBmuCs",
        "colab_type": "text"
      },
      "source": [
        "#The Main function\n",
        "\n",
        "The main function uses DB class to run queries\n"
      ]
    },
    {
      "cell_type": "code",
      "metadata": {
        "id": "0F-PxfckDMtu",
        "colab_type": "code",
        "outputId": "07faf71f-7a1a-4447-c114-ffbaa85bf566",
        "colab": {
          "base_uri": "https://localhost:8080/",
          "height": 88
        }
      },
      "source": [
        "def main():\n",
        "    db1 = DB()\n",
        "\n",
        "    q = 'use lahman;'\n",
        "    db1.query(q)\n",
        "    #db1.connection().commit()\n",
        "    \n",
        "    q = 'show tables;'\n",
        "    res=db1.query(q)\n",
        "    #db1.connection().commit()\n",
        "    print('Success! I ran a query and got {} results'.format(len(db1.query(q))))\n",
        "    print(res)\n",
        "    return\n",
        "\n",
        "    \n",
        "\n",
        "if __name__ == '__main__':\n",
        "    main()"
      ],
      "execution_count": 0,
      "outputs": [
        {
          "output_type": "stream",
          "text": [
            "Got a DB connection!- hurray\n",
            "Success! I ran a query and got 23 results\n",
            "(('Appearances',), ('AwardsManagers',), ('AwardsPlayers',), ('AwardsShareManagers',), ('AwardsSharePlayers',), ('Batting',), ('BattingPost',), ('CollegePlaying',), ('Fielding',), ('FieldingOF',), ('FieldingPost',), ('HallOfFame',), ('Managers',), ('ManagersHalf',), ('Master',), ('Pitching',), ('PitchingPost',), ('Salaries',), ('Schools',), ('SeriesPost',), ('Teams',), ('TeamsFranchises',), ('TeamsHalf',))\n"
          ],
          "name": "stdout"
        }
      ]
    }
  ]
}